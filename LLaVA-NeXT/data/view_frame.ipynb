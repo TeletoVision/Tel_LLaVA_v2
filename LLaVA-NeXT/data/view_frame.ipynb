{
 "cells": [
  {
   "cell_type": "code",
   "execution_count": 1,
   "metadata": {},
   "outputs": [
    {
     "name": "stdout",
     "output_type": "stream",
     "text": [
      "4.10.0\n"
     ]
    }
   ],
   "source": [
    "import cv2\n",
    "import os\n",
    "\n",
    "print(cv2.__version__)"
   ]
  },
  {
   "cell_type": "code",
   "execution_count": 2,
   "metadata": {},
   "outputs": [],
   "source": [
    "filepath = '/home/workspace/SKT-AIF/LLaVA-NeXT/data/UCF-crime/edit_Abuse001_x264_3seconds.mp4'\n",
    "video = cv2.VideoCapture(filepath) #'' 사이에 사용할 비디오 파일의 경로 및 이름을 넣어주도록 함\n"
   ]
  },
  {
   "cell_type": "code",
   "execution_count": 4,
   "metadata": {},
   "outputs": [
    {
     "name": "stdout",
     "output_type": "stream",
     "text": [
      "length : 73\n",
      "width : 320\n",
      "height : 240\n",
      "fps : 30.0\n"
     ]
    }
   ],
   "source": [
    "length = int(video.get(cv2.CAP_PROP_FRAME_COUNT))\n",
    "width = int(video.get(cv2.CAP_PROP_FRAME_WIDTH))\n",
    "height = int(video.get(cv2.CAP_PROP_FRAME_HEIGHT))\n",
    "fps = video.get(cv2.CAP_PROP_FPS)\n",
    "\n",
    "print(\"length :\", length)\n",
    "print(\"width :\", width)\n",
    "print(\"height :\", height)\n",
    "print(\"fps :\", fps)"
   ]
  },
  {
   "cell_type": "code",
   "execution_count": 5,
   "metadata": {},
   "outputs": [],
   "source": [
    "try:\n",
    "    if not os.path.exists(filepath[:-4]):\n",
    "        os.makedirs(filepath[:-4])\n",
    "except OSError:\n",
    "    print ('Error: Creating directory. ' +  filepath[:-4])"
   ]
  },
  {
   "cell_type": "code",
   "execution_count": null,
   "metadata": {},
   "outputs": [],
   "source": [
    "[0, 1, 3, 5, 7, 9, 11, 12, 14, 16, 18, 20, 22, 24, 25, 27, 29, 31, 33, 35, 36, 38, 40, 42, 44, 46, 48, 49, 51, 53, 55, 57, 59, 60, 62, 64, 66, 68, 70, 72]"
   ]
  },
  {
   "cell_type": "code",
   "execution_count": 8,
   "metadata": {},
   "outputs": [
    {
     "name": "stdout",
     "output_type": "stream",
     "text": [
      "Saved frame number : 0\n",
      "Saved frame number : 1\n",
      "Saved frame number : 2\n",
      "Saved frame number : 3\n",
      "Saved frame number : 4\n",
      "Saved frame number : 5\n",
      "Saved frame number : 6\n",
      "Saved frame number : 7\n",
      "Saved frame number : 8\n",
      "Saved frame number : 9\n",
      "Saved frame number : 10\n",
      "Saved frame number : 11\n",
      "Saved frame number : 12\n",
      "Saved frame number : 13\n",
      "Saved frame number : 14\n",
      "Saved frame number : 15\n",
      "Saved frame number : 16\n",
      "Saved frame number : 17\n",
      "Saved frame number : 18\n",
      "Saved frame number : 19\n",
      "Saved frame number : 20\n",
      "Saved frame number : 21\n",
      "Saved frame number : 22\n",
      "Saved frame number : 23\n",
      "Saved frame number : 24\n",
      "Saved frame number : 25\n",
      "Saved frame number : 26\n",
      "Saved frame number : 27\n",
      "Saved frame number : 28\n",
      "Saved frame number : 29\n",
      "Saved frame number : 30\n",
      "Saved frame number : 31\n",
      "Saved frame number : 32\n",
      "Saved frame number : 33\n",
      "Saved frame number : 34\n",
      "Saved frame number : 35\n",
      "Saved frame number : 36\n",
      "Saved frame number : 37\n",
      "Saved frame number : 38\n",
      "Saved frame number : 39\n",
      "Saved frame number : 40\n",
      "Saved frame number : 41\n",
      "Saved frame number : 42\n",
      "Saved frame number : 43\n",
      "Saved frame number : 44\n",
      "Saved frame number : 45\n",
      "Saved frame number : 46\n",
      "Saved frame number : 47\n",
      "Saved frame number : 48\n",
      "Saved frame number : 49\n",
      "Saved frame number : 50\n",
      "Saved frame number : 51\n",
      "Saved frame number : 52\n",
      "Saved frame number : 53\n",
      "Saved frame number : 54\n",
      "Saved frame number : 55\n",
      "Saved frame number : 56\n",
      "Saved frame number : 57\n",
      "Saved frame number : 58\n",
      "Saved frame number : 59\n",
      "Saved frame number : 60\n",
      "Saved frame number : 61\n",
      "Saved frame number : 62\n",
      "Saved frame number : 63\n",
      "Saved frame number : 64\n",
      "Saved frame number : 65\n",
      "Saved frame number : 66\n",
      "Saved frame number : 67\n",
      "Saved frame number : 68\n",
      "Saved frame number : 69\n",
      "Saved frame number : 70\n",
      "Saved frame number : 71\n",
      "Saved frame number : 72\n",
      "Total 73 frames saved in '/home/workspace/SKT-AIF/LLaVA-NeXT/data/UCF-crime/edit_Abuse001_x264_3seconds' directory.\n"
     ]
    }
   ],
   "source": [
    "import cv2\n",
    "import os\n",
    "\n",
    "# 비디오 파일 경로 및 저장할 디렉토리 설정\n",
    "video_path = '/home/workspace/SKT-AIF/LLaVA-NeXT/data/UCF-crime/edit_Abuse001_x264_3seconds.mp4'\n",
    "save_dir = '/home/workspace/SKT-AIF/LLaVA-NeXT/data/UCF-crime/edit_Abuse001_x264_3seconds'\n",
    "\n",
    "# 디렉토리가 없는 경우 생성\n",
    "if not os.path.exists(save_dir):\n",
    "    os.makedirs(save_dir)\n",
    "\n",
    "# 비디오 캡처 객체 생성\n",
    "video = cv2.VideoCapture(video_path)\n",
    "\n",
    "count = 0\n",
    "\n",
    "while video.isOpened():\n",
    "    ret, frame = video.read()\n",
    "    if not ret:\n",
    "        break\n",
    "    # 프레임 저장\n",
    "    cv2.imwrite(os.path.join(save_dir, f\"frame{count}.jpg\"), frame)\n",
    "    print('Saved frame number :', count)\n",
    "    count += 1\n",
    "\n",
    "video.release()\n",
    "print(f\"Total {count} frames saved in '{save_dir}' directory.\")"
   ]
  },
  {
   "cell_type": "code",
   "execution_count": null,
   "metadata": {},
   "outputs": [],
   "source": []
  }
 ],
 "metadata": {
  "kernelspec": {
   "display_name": "llava",
   "language": "python",
   "name": "python3"
  },
  "language_info": {
   "codemirror_mode": {
    "name": "ipython",
    "version": 3
   },
   "file_extension": ".py",
   "mimetype": "text/x-python",
   "name": "python",
   "nbconvert_exporter": "python",
   "pygments_lexer": "ipython3",
   "version": "3.1.undefined"
  }
 },
 "nbformat": 4,
 "nbformat_minor": 2
}

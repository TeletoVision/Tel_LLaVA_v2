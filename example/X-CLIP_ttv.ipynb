{
 "cells": [
  {
   "cell_type": "markdown",
   "id": "2cafef3d-06dc-475f-a876-20dad96c2cff",
   "metadata": {},
   "source": [
    "# X-CLIP : Text to Video Retrieval"
   ]
  },
  {
   "cell_type": "markdown",
   "id": "d766b3ad-1fac-430b-b518-77c6f08171dd",
   "metadata": {},
   "source": [
    "## XCLIPModel"
   ]
  },
  {
   "cell_type": "code",
   "execution_count": 44,
   "id": "18b27bc9-f6ae-47a6-8219-a9b739bda56c",
   "metadata": {},
   "outputs": [
    {
     "data": {
      "text/plain": [
       "['A video of action, abuse',\n",
       " 'A video of action, arrest',\n",
       " 'A video of action, arson',\n",
       " 'A video of action, assault',\n",
       " 'A video of action, burglary',\n",
       " 'A video of action, explosion',\n",
       " 'A video of action, fighting',\n",
       " 'A video of action, road accident',\n",
       " 'A video of action, robbery',\n",
       " 'A video of action, shooting',\n",
       " 'A video of action, shoplifting',\n",
       " 'A video of action, stealing',\n",
       " 'A video of action, vandalism']"
      ]
     },
     "execution_count": 44,
     "metadata": {},
     "output_type": "execute_result"
    }
   ],
   "source": [
    "## clip_len = 8\n",
    "# model_name = \"microsoft/xclip-base-patch32\" # clip_len = 8\n",
    "# model_name = \"microsoft/xclip-base-patch16\" # clip_len = 8\n",
    "# model_name = \"microsoft/xclip-large-patch14\" # clip_len = 8\n",
    "\n",
    "## clip_len = 16\n",
    "# model_name = \"microsoft/xclip-base-patch32-16-frames\" # clip_len = 16\n",
    "model_name = \"microsoft/xclip-base-patch16-16-frames\" # clip_len = 16\n",
    "# model_name = \"microsoft/xclip-large-patch14-16-frames\" #  clip_len = 16\n",
    "\n",
    "## HMDB-51\n",
    "# model_name = \"microsoft/xclip-base-patch16-hmdb-2-shot\" # clip_len = 32\n",
    "# model_name = \"microsoft/xclip-base-patch16-hmdb-4-shot\" # clip_len = 32\n",
    "# model_name = \"microsoft/xclip-base-patch16-hmdb-8-shot\" # clip_len = 32\n",
    "# model_name = \"microsoft/xclip-base-patch16-hmdb-16-shot\" # clip_len = 32\n",
    "\n",
    "## UCF-101\n",
    "# model_name = \"microsoft/xclip-base-patch16-ucf-2-shot\" # clip_len = 32\n",
    "# model_name = \"microsoft/xclip-base-patch16-ucf-4-shot\" # clip_len = 32\n",
    "# model_name = \"microsoft/xclip-base-patch16-ucf-8-shot\" # clip_len = 32\n",
    "# model_name = \"microsoft/xclip-base-patch16-ucf-16-shot\" # clip_len = 32\n",
    "\n",
    "## Kinetics-400\n",
    "# model_name = \"microsoft/xclip-base-patch16-zero-shot\" # clip_len = 8\n",
    "\n",
    "## Kinetics-600\n",
    "# model_name = \"microsoft/xclip-base-patch16-kinetics-600\" # clip_len = 8\n",
    "# model_name = \"microsoft/xclip-large-patch14-kinetics-600\" # clip_len = 8\n",
    "# model_name = \"microsoft/xclip-base-patch16-kinetics-600-16-frames\" # clip_len = 16\n",
    "\n",
    "label_list = [\n",
    "    \"abuse\", \"arrest\", \"arson\", \"assault\", \"burglary\",\n",
    "    \"explosion\", \"fighting\", \"road accident\", \"robbery\", \"shooting\",\n",
    "    \"shoplifting\", \"stealing\", \"vandalism\"\n",
    "]\n",
    "\n",
    "label_list = list(map(lambda x : f\"A video of action, {x}\", label_list))\n",
    "\n",
    "clip_len = 16\n",
    "seed = 826\n",
    "\n",
    "label_list"
   ]
  },
  {
   "cell_type": "code",
   "execution_count": 45,
   "id": "53053865-93ca-4256-a6da-94ff809e305c",
   "metadata": {},
   "outputs": [],
   "source": [
    "import av\n",
    "import torch\n",
    "import numpy as np\n",
    "\n",
    "from transformers import AutoProcessor, AutoModel\n",
    "from huggingface_hub import hf_hub_download\n",
    "\n",
    "def read_video_pyav(container, indices):\n",
    "    '''\n",
    "    Decode the video with PyAV decoder.\n",
    "    Args:\n",
    "        container (`av.container.input.InputContainer`): PyAV container.\n",
    "        indices (`List[int]`): List of frame indices to decode.\n",
    "    Returns:\n",
    "        result (np.ndarray): np array of decoded frames of shape (num_frames, height, width, 3).\n",
    "    '''\n",
    "    frames = []\n",
    "    container.seek(0)\n",
    "    start_index = indices[0]\n",
    "    end_index = indices[-1]\n",
    "    for i, frame in enumerate(container.decode(video=0)):\n",
    "        if i > end_index:\n",
    "            break\n",
    "        if i >= start_index and i in indices:\n",
    "            frames.append(frame)\n",
    "    return np.stack([x.to_ndarray(format=\"rgb24\") for x in frames])\n",
    "\n",
    "\n",
    "def sample_frame_indices(clip_len, frame_sample_rate, seg_len):\n",
    "    '''\n",
    "    Sample a given number of frame indices from the video.\n",
    "    Args:\n",
    "        clip_len (`int`): Total number of frames to sample.\n",
    "        frame_sample_rate (`int`): Sample every n-th frame.\n",
    "        seg_len (`int`): Maximum allowed index of sample's last frame.\n",
    "    Returns:\n",
    "        indices (`List[int]`): List of sampled frame indices\n",
    "    '''\n",
    "    converted_len = int(clip_len * frame_sample_rate)\n",
    "    end_idx = np.random.randint(converted_len, seg_len)\n",
    "    start_idx = end_idx - converted_len\n",
    "    indices = np.linspace(start_idx, end_idx, num=clip_len)\n",
    "    indices = np.clip(indices, start_idx, end_idx - 1).astype(np.int64)\n",
    "    return indices"
   ]
  },
  {
   "cell_type": "code",
   "execution_count": 50,
   "id": "c8667bae-7dcc-49ae-8448-03c7a737cf17",
   "metadata": {},
   "outputs": [
    {
     "data": {
      "text/plain": [
       "['Abuse001_x264.mp4', '몬스터볼.mp4', '지구.mp4', '지구총.mp4', '폭발.mp4']"
      ]
     },
     "execution_count": 50,
     "metadata": {},
     "output_type": "execute_result"
    }
   ],
   "source": [
    "import os\n",
    "\n",
    "dir_path = 'data/Sample/'\n",
    "\n",
    "video_path_list = os.listdir(dir_path)\n",
    "video_path_list"
   ]
  },
  {
   "cell_type": "markdown",
   "id": "11987367-9d3e-47b5-88ef-e575df51ceee",
   "metadata": {},
   "source": [
    "### Text Input"
   ]
  },
  {
   "cell_type": "code",
   "execution_count": 53,
   "id": "4caa728d-01a7-42fb-9011-dd88a3eae800",
   "metadata": {},
   "outputs": [
    {
     "name": "stdout",
     "output_type": "stream",
     "text": [
      "label : shooting\n",
      "Abuse001_x264.mp4\n"
     ]
    },
    {
     "name": "stderr",
     "output_type": "stream",
     "text": [
      "Unused or unrecognized kwargs: padding.\n"
     ]
    },
    {
     "name": "stdout",
     "output_type": "stream",
     "text": [
      "similarity score : 14.390071868896484\n",
      "몬스터볼.mp4\n"
     ]
    },
    {
     "name": "stderr",
     "output_type": "stream",
     "text": [
      "Unused or unrecognized kwargs: padding.\n"
     ]
    },
    {
     "name": "stdout",
     "output_type": "stream",
     "text": [
      "similarity score : 17.46728515625\n",
      "지구.mp4\n"
     ]
    },
    {
     "name": "stderr",
     "output_type": "stream",
     "text": [
      "Unused or unrecognized kwargs: padding.\n"
     ]
    },
    {
     "name": "stdout",
     "output_type": "stream",
     "text": [
      "similarity score : 15.2318115234375\n",
      "지구총.mp4\n"
     ]
    },
    {
     "name": "stderr",
     "output_type": "stream",
     "text": [
      "Unused or unrecognized kwargs: padding.\n"
     ]
    },
    {
     "name": "stdout",
     "output_type": "stream",
     "text": [
      "similarity score : 21.49944496154785\n",
      "폭발.mp4\n"
     ]
    },
    {
     "name": "stderr",
     "output_type": "stream",
     "text": [
      "Unused or unrecognized kwargs: padding.\n"
     ]
    },
    {
     "name": "stdout",
     "output_type": "stream",
     "text": [
      "similarity score : 16.75489044189453\n"
     ]
    },
    {
     "data": {
      "text/plain": [
       "[14.390071868896484,\n",
       " 17.46728515625,\n",
       " 15.2318115234375,\n",
       " 21.49944496154785,\n",
       " 16.75489044189453]"
      ]
     },
     "execution_count": 53,
     "metadata": {},
     "output_type": "execute_result"
    }
   ],
   "source": [
    "label = 'shooting'\n",
    "\n",
    "print(f'label : {label}')\n",
    "\n",
    "similarity_list = []\n",
    "\n",
    "for file_path in video_path_list:\n",
    "\n",
    "    print(file_path)\n",
    "\n",
    "    np.random.seed(seed)\n",
    "    \n",
    "    # video clip consists of 300 frames (10 seconds at 30 FPS)\n",
    "    \n",
    "    container = av.open(dir_path + file_path)\n",
    "    \n",
    "    frame_sample_rate = int((container.streams.video[0].frames-1) / clip_len)\n",
    "    # print(f\"frame_sample_rate : {frame_sample_rate}\")\n",
    "    # print(f\"seg_len : {container.streams.video[0].frames}\")\n",
    "    \n",
    "    # sample clip_len frames\n",
    "    indices = sample_frame_indices(\n",
    "        clip_len=clip_len, frame_sample_rate=frame_sample_rate,\n",
    "        seg_len=container.streams.video[0].frames\n",
    "    )\n",
    "    video = read_video_pyav(container, indices)\n",
    "    \n",
    "    processor = AutoProcessor.from_pretrained(model_name)\n",
    "    model = AutoModel.from_pretrained(model_name)\n",
    "    \n",
    "    inputs = processor(\n",
    "        text=label,\n",
    "        videos=list(video),\n",
    "        return_tensors=\"pt\",\n",
    "        padding=True,\n",
    "    )\n",
    "    \n",
    "    # forward pass\n",
    "    with torch.no_grad():\n",
    "        outputs = model(**inputs)\n",
    "    \n",
    "    logits_per_video = outputs.logits_per_video  # this is the video-text similarity score\n",
    "\n",
    "    similarity_list.append(float(logits_per_video[0][0]))\n",
    "\n",
    "    print(f'similarity score : {float(logits_per_video[0][0])}')\n",
    "\n",
    "similarity_list"
   ]
  },
  {
   "cell_type": "code",
   "execution_count": null,
   "id": "e2d8e5cd-fa7e-4a54-9d28-89a83b663536",
   "metadata": {},
   "outputs": [],
   "source": []
  }
 ],
 "metadata": {
  "kernelspec": {
   "display_name": "Python 3 (ipykernel)",
   "language": "python",
   "name": "python3"
  },
  "language_info": {
   "codemirror_mode": {
    "name": "ipython",
    "version": 3
   },
   "file_extension": ".py",
   "mimetype": "text/x-python",
   "name": "python",
   "nbconvert_exporter": "python",
   "pygments_lexer": "ipython3",
   "version": "3.10.0"
  }
 },
 "nbformat": 4,
 "nbformat_minor": 5
}
